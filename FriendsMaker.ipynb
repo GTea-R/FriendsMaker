{
  "nbformat": 4,
  "nbformat_minor": 0,
  "metadata": {
    "colab": {
      "name": "FriendsMaker.ipynb",
      "provenance": [],
      "collapsed_sections": [],
      "include_colab_link": true
    },
    "kernelspec": {
      "display_name": "Python 3",
      "name": "python3"
    }
  },
  "cells": [
    {
      "cell_type": "markdown",
      "metadata": {
        "id": "view-in-github",
        "colab_type": "text"
      },
      "source": [
        "<a href=\"https://colab.research.google.com/github/GTea-R/FriendsMaker/blob/main/FriendsMaker.ipynb\" target=\"_parent\"><img src=\"https://colab.research.google.com/assets/colab-badge.svg\" alt=\"Open In Colab\"/></a>"
      ]
    },
    {
      "cell_type": "code",
      "metadata": {
        "id": "69LB0Z2lPqgj"
      },
      "source": [
        "!pip install tweepy"
      ],
      "execution_count": null,
      "outputs": []
    },
    {
      "cell_type": "code",
      "metadata": {
        "id": "6W3wpQQRVBOS"
      },
      "source": [
        "import time\n",
        "import tweepy\n",
        "import random\n",
        "import os\n",
        "import datetime"
      ],
      "execution_count": 2,
      "outputs": []
    },
    {
      "cell_type": "code",
      "metadata": {
        "id": "13kreq9tQCJh"
      },
      "source": [
        "consumer_key = '' # Consumer API key\n",
        "consumer_secret = '' # Consumer API Secret key\n",
        "access_token_key = '-' # Access token\n",
        "access_token_secret = '' # Access token secret"
      ],
      "execution_count": 3,
      "outputs": []
    },
    {
      "cell_type": "code",
      "metadata": {
        "id": "EeQ7LV94vmDu"
      },
      "source": [
        "auth = tweepy.OAuthHandler(consumer_key, consumer_secret)\n",
        "auth.set_access_token(access_token_key, access_token_secret)\n",
        "api = tweepy.API(auth)"
      ],
      "execution_count": 4,
      "outputs": []
    },
    {
      "cell_type": "code",
      "metadata": {
        "id": "5dRf8h_B0JHS"
      },
      "source": [
        "my_user_id = ''"
      ],
      "execution_count": 5,
      "outputs": []
    },
    {
      "cell_type": "code",
      "metadata": {
        "id": "8zfkI8sgH15j"
      },
      "source": [
        " def search_tweets(q, sinceDate):\n",
        "    for i in range(3):\n",
        "        try:\n",
        "          results = tweepy.Cursor(api.search, q=q, tweet_mode='extended', since = sinceDate, result_type=\"mixed\", include_entities=True).items()\n",
        "        except tweepy.RateLimitError as e:\n",
        "            print(e)\n",
        "            time.sleep(15 * 60)\n",
        "        except tweepy.TweepError as e:\n",
        "            print(e)\n",
        "            time.sleep(5 * 60)\n",
        "            break\n",
        "        else:\n",
        "            return results"
      ],
      "execution_count": 6,
      "outputs": []
    },
    {
      "cell_type": "code",
      "metadata": {
        "id": "zmYRIeLBP99X"
      },
      "source": [
        "def create_frend(q, todaystr, sinceDate):\n",
        "\n",
        "    # Twitterの検索結果を取得\n",
        "    results = search_tweets(q, sinceDate)\n",
        "\n",
        "    for result in results:\n",
        "        screen_name = result.user.screen_name\n",
        "        is_following = result.user._json['following']\n",
        "        if screen_name == my_user_id:\n",
        "            print('自分')\n",
        "        else:\n",
        "            if is_following:\n",
        "                print('@' + screen_name + 'はフォロー済み')\n",
        "                time.sleep(30)\n",
        "            else:\n",
        "                print('@' + screen_name + 'をフォロー処理中...')\n",
        "                for i in range(3):\n",
        "                    try:\n",
        "                        api.create_friendship(screen_name)\n",
        "                        print('フォローに成功しました')\n",
        "                    except tweepy.RateLimitError as e:\n",
        "                        print(e)\n",
        "                        time.sleep(15 * 60)\n",
        "                    except tweepy.TweepError as e:\n",
        "                        print(e)\n",
        "                        time.sleep(5 * 60)\n",
        "                        break\n",
        "                    else:\n",
        "                        time.sleep(3 * 60)\n",
        "                        break"
      ],
      "execution_count": 7,
      "outputs": []
    },
    {
      "cell_type": "code",
      "metadata": {
        "id": "q97OxhFhwKpq"
      },
      "source": [
        "def main():\n",
        "\n",
        "    while True:\n",
        "    #今日日付と過去の一覧を取得したい日付を設定\n",
        "        today = datetime.date.today()\n",
        "        todaystr = today.strftime('%Y%m%d')\n",
        "\n",
        "        q = f\"%23おはようVtubar\"\n",
        "        create_frend(q, todaystr, today - datetime.timedelta(days=1))\n",
        "\n",
        "if __name__ == \"__main__\":\n",
        "    main()"
      ],
      "execution_count": null,
      "outputs": []
    }
  ]
}